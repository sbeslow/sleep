{
 "cells": [
  {
   "cell_type": "code",
   "execution_count": 4,
   "metadata": {
    "collapsed": true
   },
   "outputs": [],
   "source": [
    "import fitbit\n",
    "import pandas as pd"
   ]
  },
  {
   "cell_type": "code",
   "execution_count": 2,
   "metadata": {
    "collapsed": true
   },
   "outputs": [],
   "source": [
    "client_id = ''\n",
    "client_secret = ''\n",
    "redirect_uri = \"\""
   ]
  },
  {
   "cell_type": "code",
   "execution_count": 70,
   "metadata": {
    "collapsed": true
   },
   "outputs": [],
   "source": [
    "authd_client = fitbit.Fitbit(client_id, client_secret,\n",
    "                             access_token='')"
   ]
  },
  {
   "cell_type": "code",
   "execution_count": 60,
   "metadata": {
    "collapsed": false
   },
   "outputs": [],
   "source": [
    "d = pd.to_datetime('9/2/2016').date()"
   ]
  },
  {
   "cell_type": "code",
   "execution_count": 61,
   "metadata": {
    "collapsed": false
   },
   "outputs": [
    {
     "ename": "IndexError",
     "evalue": "list index out of range",
     "output_type": "error",
     "traceback": [
      "\u001b[0;31m---------------------------------------------------------------------------\u001b[0m",
      "\u001b[0;31mIndexError\u001b[0m                                Traceback (most recent call last)",
      "\u001b[0;32m<ipython-input-61-09ad33db4e79>\u001b[0m in \u001b[0;36m<module>\u001b[0;34m()\u001b[0m\n\u001b[0;32m----> 1\u001b[0;31m \u001b[0msleep_day\u001b[0m \u001b[0;34m=\u001b[0m \u001b[0mauthd_client\u001b[0m\u001b[0;34m.\u001b[0m\u001b[0mget_sleep\u001b[0m\u001b[0;34m(\u001b[0m\u001b[0md\u001b[0m\u001b[0;34m)\u001b[0m\u001b[0;34m[\u001b[0m\u001b[0;34m'sleep'\u001b[0m\u001b[0;34m]\u001b[0m\u001b[0;34m[\u001b[0m\u001b[0;36m0\u001b[0m\u001b[0;34m]\u001b[0m\u001b[0;34m\u001b[0m\u001b[0m\n\u001b[0m",
      "\u001b[0;31mIndexError\u001b[0m: list index out of range"
     ]
    }
   ],
   "source": [
    "sleep_day = authd_client.get_sleep(d)['sleep'][0]"
   ]
  },
  {
   "cell_type": "code",
   "execution_count": 54,
   "metadata": {
    "collapsed": false
   },
   "outputs": [
    {
     "data": {
      "text/html": [
       "<div>\n",
       "<table border=\"1\" class=\"dataframe\">\n",
       "  <thead>\n",
       "    <tr style=\"text-align: right;\">\n",
       "      <th></th>\n",
       "      <th>awakeCount</th>\n",
       "      <th>awakeDuration</th>\n",
       "      <th>awakeningsCount</th>\n",
       "      <th>dateOfSleep</th>\n",
       "      <th>duration</th>\n",
       "      <th>efficiency</th>\n",
       "      <th>isMainSleep</th>\n",
       "      <th>logId</th>\n",
       "      <th>minuteData</th>\n",
       "      <th>minutesAfterWakeup</th>\n",
       "      <th>minutesAsleep</th>\n",
       "      <th>minutesAwake</th>\n",
       "      <th>minutesToFallAsleep</th>\n",
       "      <th>restlessCount</th>\n",
       "      <th>restlessDuration</th>\n",
       "      <th>startTime</th>\n",
       "      <th>timeInBed</th>\n",
       "    </tr>\n",
       "  </thead>\n",
       "  <tbody>\n",
       "    <tr>\n",
       "      <th>0</th>\n",
       "      <td>0</td>\n",
       "      <td>0</td>\n",
       "      <td>7</td>\n",
       "      <td>2016-12-09</td>\n",
       "      <td>23640000</td>\n",
       "      <td>98</td>\n",
       "      <td>True</td>\n",
       "      <td>13187958640</td>\n",
       "      <td>[{'value': '1', 'dateTime': '23:50:30'}, {'val...</td>\n",
       "      <td>0</td>\n",
       "      <td>385</td>\n",
       "      <td>9</td>\n",
       "      <td>0</td>\n",
       "      <td>7</td>\n",
       "      <td>9</td>\n",
       "      <td>2016-12-08T23:50:30.000</td>\n",
       "      <td>394</td>\n",
       "    </tr>\n",
       "  </tbody>\n",
       "</table>\n",
       "</div>"
      ],
      "text/plain": [
       "   awakeCount  awakeDuration  awakeningsCount dateOfSleep  duration  \\\n",
       "0           0              0                7  2016-12-09  23640000   \n",
       "\n",
       "   efficiency isMainSleep        logId  \\\n",
       "0          98        True  13187958640   \n",
       "\n",
       "                                          minuteData  minutesAfterWakeup  \\\n",
       "0  [{'value': '1', 'dateTime': '23:50:30'}, {'val...                   0   \n",
       "\n",
       "   minutesAsleep  minutesAwake  minutesToFallAsleep  restlessCount  \\\n",
       "0            385             9                    0              7   \n",
       "\n",
       "   restlessDuration                startTime  timeInBed  \n",
       "0                 9  2016-12-08T23:50:30.000        394  "
      ]
     },
     "execution_count": 54,
     "metadata": {},
     "output_type": "execute_result"
    }
   ],
   "source": [
    "a = pd.DataFrame([sleep_day])\n",
    "a.head()"
   ]
  },
  {
   "cell_type": "code",
   "execution_count": 57,
   "metadata": {
    "collapsed": true
   },
   "outputs": [],
   "source": [
    "from datetime import datetime, timedelta\n",
    "import traceback"
   ]
  },
  {
   "cell_type": "code",
   "execution_count": 73,
   "metadata": {
    "collapsed": false
   },
   "outputs": [
    {
     "name": "stdout",
     "output_type": "stream",
     "text": [
      "Zero at: 2015-12-03\n",
      "Traceback (most recent call last):\n",
      "  File \"<ipython-input-73-d254eeef5ee7>\", line 7, in <module>\n",
      "    sleep_day = authd_client.get_sleep(date_iter)['sleep'][0]\n",
      "IndexError: list index out of range\n",
      "\n",
      "Zero at: 2015-12-02\n",
      "Traceback (most recent call last):\n",
      "  File \"<ipython-input-73-d254eeef5ee7>\", line 7, in <module>\n",
      "    sleep_day = authd_client.get_sleep(date_iter)['sleep'][0]\n",
      "IndexError: list index out of range\n",
      "\n",
      "Zero at: 2015-12-01\n",
      "Traceback (most recent call last):\n",
      "  File \"<ipython-input-73-d254eeef5ee7>\", line 7, in <module>\n",
      "    sleep_day = authd_client.get_sleep(date_iter)['sleep'][0]\n",
      "IndexError: list index out of range\n",
      "\n",
      "Zero at: 2015-11-30\n",
      "Traceback (most recent call last):\n",
      "  File \"<ipython-input-73-d254eeef5ee7>\", line 7, in <module>\n",
      "    sleep_day = authd_client.get_sleep(date_iter)['sleep'][0]\n",
      "IndexError: list index out of range\n",
      "\n",
      "Zero at: 2015-11-29\n",
      "Traceback (most recent call last):\n",
      "  File \"<ipython-input-73-d254eeef5ee7>\", line 7, in <module>\n",
      "    sleep_day = authd_client.get_sleep(date_iter)['sleep'][0]\n",
      "IndexError: list index out of range\n",
      "\n"
     ]
    }
   ],
   "source": [
    "sleep_list = []\n",
    "zeroes = 0\n",
    "api_calls = 0\n",
    "date_iter = d = pd.to_datetime('12/3/2015').date()\n",
    "while zeroes < 5 and api_calls < 150:\n",
    "    try:\n",
    "        sleep_day = authd_client.get_sleep(date_iter)['sleep'][0]\n",
    "        sleep_list.append(sleep_day)\n",
    "        print(\"Adding \" + str(sleep_day['dateOfSleep']))\n",
    "        zeroes = 0\n",
    "    except:\n",
    "        zeroes += 1\n",
    "        print('Zero at: ' + str(date_iter))\n",
    "        print(traceback.format_exc())\n",
    "    date_iter = date_iter - timedelta(days=1)\n",
    "    api_calls += 1"
   ]
  },
  {
   "cell_type": "code",
   "execution_count": 66,
   "metadata": {
    "collapsed": false
   },
   "outputs": [
    {
     "data": {
      "text/html": [
       "<div>\n",
       "<table border=\"1\" class=\"dataframe\">\n",
       "  <thead>\n",
       "    <tr style=\"text-align: right;\">\n",
       "      <th></th>\n",
       "      <th>awakeCount</th>\n",
       "      <th>awakeDuration</th>\n",
       "      <th>awakeningsCount</th>\n",
       "      <th>dateOfSleep</th>\n",
       "      <th>duration</th>\n",
       "      <th>efficiency</th>\n",
       "      <th>isMainSleep</th>\n",
       "      <th>logId</th>\n",
       "      <th>minutesAfterWakeup</th>\n",
       "      <th>minutesAsleep</th>\n",
       "      <th>minutesAwake</th>\n",
       "      <th>minutesToFallAsleep</th>\n",
       "      <th>restlessCount</th>\n",
       "      <th>restlessDuration</th>\n",
       "      <th>startTime</th>\n",
       "      <th>timeInBed</th>\n",
       "    </tr>\n",
       "  </thead>\n",
       "  <tbody>\n",
       "    <tr>\n",
       "      <th>0</th>\n",
       "      <td>1</td>\n",
       "      <td>2</td>\n",
       "      <td>5</td>\n",
       "      <td>2016-03-16</td>\n",
       "      <td>26100000</td>\n",
       "      <td>98</td>\n",
       "      <td>True</td>\n",
       "      <td>11137248041</td>\n",
       "      <td>0</td>\n",
       "      <td>427</td>\n",
       "      <td>8</td>\n",
       "      <td>0</td>\n",
       "      <td>4</td>\n",
       "      <td>6</td>\n",
       "      <td>2016-03-15T22:40:00.000</td>\n",
       "      <td>435</td>\n",
       "    </tr>\n",
       "    <tr>\n",
       "      <th>1</th>\n",
       "      <td>1</td>\n",
       "      <td>2</td>\n",
       "      <td>8</td>\n",
       "      <td>2016-03-15</td>\n",
       "      <td>27360000</td>\n",
       "      <td>96</td>\n",
       "      <td>True</td>\n",
       "      <td>11129234410</td>\n",
       "      <td>5</td>\n",
       "      <td>435</td>\n",
       "      <td>16</td>\n",
       "      <td>0</td>\n",
       "      <td>7</td>\n",
       "      <td>19</td>\n",
       "      <td>2016-03-14T22:34:00.000</td>\n",
       "      <td>456</td>\n",
       "    </tr>\n",
       "    <tr>\n",
       "      <th>2</th>\n",
       "      <td>1</td>\n",
       "      <td>1</td>\n",
       "      <td>6</td>\n",
       "      <td>2016-03-14</td>\n",
       "      <td>30240000</td>\n",
       "      <td>99</td>\n",
       "      <td>True</td>\n",
       "      <td>11121265259</td>\n",
       "      <td>1</td>\n",
       "      <td>498</td>\n",
       "      <td>5</td>\n",
       "      <td>0</td>\n",
       "      <td>5</td>\n",
       "      <td>5</td>\n",
       "      <td>2016-03-13T21:23:30.000</td>\n",
       "      <td>504</td>\n",
       "    </tr>\n",
       "    <tr>\n",
       "      <th>3</th>\n",
       "      <td>1</td>\n",
       "      <td>1</td>\n",
       "      <td>1</td>\n",
       "      <td>2016-03-13</td>\n",
       "      <td>3660000</td>\n",
       "      <td>98</td>\n",
       "      <td>False</td>\n",
       "      <td>11112831867</td>\n",
       "      <td>0</td>\n",
       "      <td>60</td>\n",
       "      <td>1</td>\n",
       "      <td>0</td>\n",
       "      <td>0</td>\n",
       "      <td>0</td>\n",
       "      <td>2016-03-13T07:39:00.000</td>\n",
       "      <td>61</td>\n",
       "    </tr>\n",
       "    <tr>\n",
       "      <th>4</th>\n",
       "      <td>1</td>\n",
       "      <td>3</td>\n",
       "      <td>5</td>\n",
       "      <td>2016-03-12</td>\n",
       "      <td>34080000</td>\n",
       "      <td>99</td>\n",
       "      <td>True</td>\n",
       "      <td>11107100504</td>\n",
       "      <td>0</td>\n",
       "      <td>561</td>\n",
       "      <td>7</td>\n",
       "      <td>0</td>\n",
       "      <td>4</td>\n",
       "      <td>4</td>\n",
       "      <td>2016-03-11T22:06:30.000</td>\n",
       "      <td>568</td>\n",
       "    </tr>\n",
       "  </tbody>\n",
       "</table>\n",
       "</div>"
      ],
      "text/plain": [
       "   awakeCount  awakeDuration  awakeningsCount dateOfSleep  duration  \\\n",
       "0           1              2                5  2016-03-16  26100000   \n",
       "1           1              2                8  2016-03-15  27360000   \n",
       "2           1              1                6  2016-03-14  30240000   \n",
       "3           1              1                1  2016-03-13   3660000   \n",
       "4           1              3                5  2016-03-12  34080000   \n",
       "\n",
       "   efficiency isMainSleep        logId  minutesAfterWakeup  minutesAsleep  \\\n",
       "0          98        True  11137248041                   0            427   \n",
       "1          96        True  11129234410                   5            435   \n",
       "2          99        True  11121265259                   1            498   \n",
       "3          98       False  11112831867                   0             60   \n",
       "4          99        True  11107100504                   0            561   \n",
       "\n",
       "   minutesAwake  minutesToFallAsleep  restlessCount  restlessDuration  \\\n",
       "0             8                    0              4                 6   \n",
       "1            16                    0              7                19   \n",
       "2             5                    0              5                 5   \n",
       "3             1                    0              0                 0   \n",
       "4             7                    0              4                 4   \n",
       "\n",
       "                 startTime  timeInBed  \n",
       "0  2016-03-15T22:40:00.000        435  \n",
       "1  2016-03-14T22:34:00.000        456  \n",
       "2  2016-03-13T21:23:30.000        504  \n",
       "3  2016-03-13T07:39:00.000         61  \n",
       "4  2016-03-11T22:06:30.000        568  "
      ]
     },
     "execution_count": 66,
     "metadata": {},
     "output_type": "execute_result"
    }
   ],
   "source": [
    "a = pd.DataFrame(sleep_list)\n",
    "a = a.drop('minuteData', 1)\n",
    "a.head()"
   ]
  },
  {
   "cell_type": "code",
   "execution_count": 67,
   "metadata": {
    "collapsed": true
   },
   "outputs": [],
   "source": [
    "with open('data/sleep_list.csv', 'a') as f:\n",
    "    a.to_csv(f, header=False)"
   ]
  },
  {
   "cell_type": "code",
   "execution_count": null,
   "metadata": {
    "collapsed": true
   },
   "outputs": [],
   "source": []
  }
 ],
 "metadata": {
  "kernelspec": {
   "display_name": "Python 3",
   "language": "python",
   "name": "python3"
  },
  "language_info": {
   "codemirror_mode": {
    "name": "ipython",
    "version": 3
   },
   "file_extension": ".py",
   "mimetype": "text/x-python",
   "name": "python",
   "nbconvert_exporter": "python",
   "pygments_lexer": "ipython3",
   "version": "3.5.2"
  }
 },
 "nbformat": 4,
 "nbformat_minor": 2
}
